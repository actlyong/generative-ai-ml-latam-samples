{
 "cells": [
  {
   "cell_type": "code",
   "execution_count": 4,
   "metadata": {},
   "outputs": [
    {
     "name": "stdout",
     "output_type": "stream",
     "text": [
      "dialect: sqlite\n",
      "tables:\n",
      "['Album', 'Artist', 'Customer', 'Employee', 'Genre', 'Invoice', 'InvoiceLine', 'MediaType', 'Playlist', 'PlaylistTrack', 'Track']\n"
     ]
    }
   ],
   "source": [
    "import os\n",
    "from langchain_community.utilities.sql_database import SQLDatabase\n",
    "from langchain_community.agent_toolkits import create_sql_agent\n",
    "from langchain_aws import  ChatBedrock\n",
    "\n",
    "model_id = os.environ.get(\"MODEL_ID\", \"us.anthropic.claude-3-5-haiku-20241022-v1:0\")\n",
    "llm =ChatBedrock(model = model_id,  beta_use_converse_api=True, model_kwargs={\"temperature\": 0})\n",
    "db = SQLDatabase.from_uri(\"sqlite:///Chinook.db\")\n",
    "print(\"dialect:\",db.dialect)\n",
    "print (\"tables:\")\n",
    "print(db.get_usable_table_names())\n",
    "agent_executor = create_sql_agent(llm, db=db, verbose=True)\n",
    "\n",
    "def query_db(consulta):   \n",
    "    response = agent_executor.invoke(consulta)\n",
    "    return response.get(\"output\")\n"
   ]
  },
  {
   "cell_type": "code",
   "execution_count": 40,
   "metadata": {},
   "outputs": [
    {
     "name": "stdout",
     "output_type": "stream",
     "text": [
      "sql_db_query:\n",
      "Input to this tool is a detailed and correct SQL query, output is a result from the database. If the query is not correct, an error message will be returned. If an error is returned, rewrite the query, check the query, and try again. If you encounter an issue with Unknown column 'xxxx' in 'field list', use sql_db_schema to query the correct table fields.\n",
      "\n",
      "sql_db_schema:\n",
      "Input to this tool is a comma-separated list of tables, output is the schema and sample rows for those tables. Be sure that the tables actually exist by calling sql_db_list_tables first! Example Input: table1, table2, table3\n",
      "\n",
      "sql_db_list_tables:\n",
      "Input is an empty string, output is a comma-separated list of tables in the database.\n",
      "\n",
      "sql_db_query_checker:\n",
      "Use this tool to double check if your query is correct before executing it. Always use this tool before executing a query with sql_db_query!\n",
      "\n"
     ]
    }
   ],
   "source": [
    "for t in  agent_executor.tools:\n",
    "    print (f\"{t.name}:\")\n",
    "    print(t.description, end=\"\\n\\n\")"
   ]
  },
  {
   "cell_type": "code",
   "execution_count": 2,
   "metadata": {},
   "outputs": [
    {
     "name": "stdout",
     "output_type": "stream",
     "text": [
      "dialect: sqlite\n",
      "tables:\n",
      "['Album', 'Artist', 'Customer', 'Employee', 'Genre', 'Invoice', 'InvoiceLine', 'MediaType', 'Playlist', 'PlaylistTrack', 'Track']\n",
      "\n",
      "\n",
      "\u001b[1m> Entering new SQL Agent Executor chain...\u001b[0m\n",
      "\u001b[32;1m\u001b[1;3mThought: I'll use the sql_db_list_tables tool to see what tables are available in the database.\n",
      "Action: sql_db_list_tables\n",
      "Action Input: \u001b[0m\u001b[38;5;200m\u001b[1;3mAlbum, Artist, Customer, Employee, Genre, Invoice, InvoiceLine, MediaType, Playlist, PlaylistTrack, Track\u001b[0m\u001b[32;1m\u001b[1;3mThought: I see a list of tables that appear to be from a music-related database. The tables include Album, Artist, Customer, Employee, Genre, Invoice, InvoiceLine, MediaType, Playlist, PlaylistTrack, and Track. This looks like a comprehensive database for a music store or streaming service.\n",
      "\n",
      "Final Answer: Las tablas que conozco son: Album, Artist, Customer, Employee, Genre, Invoice, InvoiceLine, MediaType, Playlist, PlaylistTrack, y Track. Parece ser una base de datos relacionada con música, posiblemente de una tienda de música o servicio de streaming.\u001b[0m\n",
      "\n",
      "\u001b[1m> Finished chain.\u001b[0m\n",
      "Las tablas que conozco son: Album, Artist, Customer, Employee, Genre, Invoice, InvoiceLine, MediaType, Playlist, PlaylistTrack, y Track. Parece ser una base de datos relacionada con música, posiblemente de una tienda de música o servicio de streaming.\n"
     ]
    }
   ],
   "source": [
    "query = \"que tablas conoces?\"\n",
    "response = query_db(query)\n",
    "print (response)"
   ]
  },
  {
   "cell_type": "code",
   "execution_count": null,
   "metadata": {},
   "outputs": [],
   "source": [
    "import boto3\n",
    "client = boto3.client('bedrock-agent-runtime')\n",
    "agent_id = \"YOURAGENTID\"\n",
    "agent_alias_id = \"TSTALIASID\"\n",
    "input_text = \"Hola cuantos discos se han vendido por país?\""
   ]
  },
  {
   "cell_type": "code",
   "execution_count": 10,
   "metadata": {},
   "outputs": [],
   "source": [
    "\n",
    "import boto3\n",
    "from botocore.exceptions import ClientError\n",
    "import logging\n",
    "logger = logging.getLogger(__name__)\n",
    "\n",
    "\n",
    "class BedrockAgentService:\n",
    "    def __init__(self, agent_id, alias_id= \"TSTALIASID\", client=None) -> None:\n",
    "        self.agents_runtime_client = client if client else boto3.client('bedrock-agent-runtime')\n",
    "        self.agent_id = agent_id\n",
    "        self.alias_id = alias_id\n",
    "\n",
    "    # from https://docs.aws.amazon.com/code-library/latest/ug/python_3_bedrock-agent-runtime_code_examples.html\n",
    "    def invoke_agent(self, session_id, prompt):\n",
    "\n",
    "        try:\n",
    "\n",
    "            response = self.agents_runtime_client.invoke_agent(\n",
    "                agentId=self.agent_id,\n",
    "                agentAliasId=self.alias_id,\n",
    "                sessionId=session_id,\n",
    "                inputText=prompt,\n",
    "            )\n",
    "\n",
    "            completion = \"\"\n",
    "\n",
    "            for event in response.get(\"completion\"):\n",
    "                chunk = event[\"chunk\"]\n",
    "                completion = completion + chunk[\"bytes\"].decode()\n",
    "\n",
    "        except ClientError as e:\n",
    "            logger.error(f\"Couldn't invoke agent. {e}\")\n",
    "            raise\n",
    "\n",
    "        return completion\n",
    "\n"
   ]
  },
  {
   "cell_type": "code",
   "execution_count": 7,
   "metadata": {},
   "outputs": [],
   "source": [
    "agent = BedrockAgentService(agent_id, agent_alias_id)"
   ]
  },
  {
   "cell_type": "code",
   "execution_count": null,
   "metadata": {},
   "outputs": [
    {
     "data": {
      "text/plain": [
       "'Según los datos, los 3 principales países por número de álbumes vendidos son:\\n1. Estados Unidos: 205 álbumes\\n2. Canadá: 136 álbumes\\n3. Francia: 99 álbumes\\n\\nEn total, se han identificado ventas de álbumes en al menos 10 países diferentes, con Estados Unidos liderando significativamente las ventas.'"
      ]
     },
     "execution_count": 8,
     "metadata": {},
     "output_type": "execute_result"
    }
   ],
   "source": [
    "agent.invoke_agent('12345678', \"cuantos discos vendidos por país?\")"
   ]
  },
  {
   "cell_type": "code",
   "execution_count": null,
   "metadata": {},
   "outputs": [
    {
     "data": {
      "text/plain": [
       "'Los 3 principales países por número de canciones vendidas son:\\n1. Estados Unidos: 494 canciones\\n2. Canadá: 304 canciones\\n3. Francia y Brasil (empatados): 190 canciones\\n\\nLa distribución de ventas de canciones sigue un patrón similar a la de álbumes, con Estados Unidos dominando claramente las ventas, seguido por Canadá y luego Francia y Brasil.'"
      ]
     },
     "execution_count": 9,
     "metadata": {},
     "output_type": "execute_result"
    }
   ],
   "source": [
    "agent.invoke_agent('12345678', \"y canciones?\")"
   ]
  },
  {
   "cell_type": "code",
   "execution_count": null,
   "metadata": {},
   "outputs": [
    {
     "data": {
      "text/plain": [
       "'Los 3 principales países por ingresos totales son:\\n1. Estados Unidos: $523.06\\n2. Canadá: $303.96\\n3. Francia: $195.10\\n\\nLa distribución de ingresos es consistente con las ventas de álbumes y canciones, con Estados Unidos liderando claramente, seguido por Canadá y Francia. Hay una variación significativa en los ingresos entre los diferentes países, reflejando las diferencias en el volumen de ventas.'"
      ]
     },
     "execution_count": 11,
     "metadata": {},
     "output_type": "execute_result"
    }
   ],
   "source": [
    "agent.invoke_agent('12345678', \"ahora revenue\")"
   ]
  },
  {
   "cell_type": "code",
   "execution_count": null,
   "metadata": {},
   "outputs": [],
   "source": []
  }
 ],
 "metadata": {
  "kernelspec": {
   "display_name": ".venv",
   "language": "python",
   "name": "python3"
  },
  "language_info": {
   "codemirror_mode": {
    "name": "ipython",
    "version": 3
   },
   "file_extension": ".py",
   "mimetype": "text/x-python",
   "name": "python",
   "nbconvert_exporter": "python",
   "pygments_lexer": "ipython3",
   "version": "3.13.0"
  }
 },
 "nbformat": 4,
 "nbformat_minor": 2
}
