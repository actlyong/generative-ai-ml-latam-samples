{
 "cells": [
  {
   "cell_type": "markdown",
   "metadata": {},
   "source": [
    "Separar meta-prompting y subir despues..."
   ]
  },
  {
   "cell_type": "markdown",
   "metadata": {},
   "source": [
    "# Meta-prompt for Text-to-Image"
   ]
  },
  {
   "cell_type": "code",
   "execution_count": null,
   "metadata": {},
   "outputs": [
    {
     "name": "stdout",
     "output_type": "stream",
     "text": [
      "==================================\u001b[1m Ai Message \u001b[0m==================================\n",
      "\n",
      "\"Generate a realistic image of a modern, durable air travel bag. The bag should have a sleek design with a combination of dark blue and grey colors. Include multiple compartments and adjustable straps. Show the bag from a slightly elevated angle to highlight its structure and features in a well-lit outdoor travel setting.\"\n"
     ]
    }
   ],
   "source": [
    "from langchain_aws import ChatBedrockConverse\n",
    "from langchain_core.messages import HumanMessage\n",
    "\n",
    "nova_lite = ChatBedrockConverse(\n",
    "    model='amazon.nova-pro-v1:0',\n",
    "    # model='amazon.nova-lite-v1:0',\n",
    "    max_tokens=600,\n",
    "    top_p=0,\n",
    "    temperature=0\n",
    "    )\n",
    "\n",
    "messages = [\n",
    "    (\"system\", \"\"\"\n",
    "    You are an agent expert in prompts for a Foundational Model (FM). The FM will create an image from the prompt you provide to it.\n",
    "    Rules:\n",
    "     - The prompt most be concise\n",
    "     - The prompt most include the style of the image, colors and angles\n",
    "    \"\"\"),\n",
    "    (\"user\", \"Create a prompt to generate a realistic image. A bag for airtravel in great conditions\"),\n",
    "]\n",
    "\n",
    "response = nova_lite.invoke(messages)\n",
    "#print(f\"Request ID: {response.id}\")\n",
    "response.pretty_print()\n"
   ]
  },
  {
   "cell_type": "markdown",
   "metadata": {},
   "source": [
    "## Meta-prompt for Text-to-Video"
   ]
  },
  {
   "cell_type": "code",
   "execution_count": null,
   "metadata": {},
   "outputs": [],
   "source": [
    "from langchain_aws import ChatBedrockConverse\n",
    "from langchain_core.messages import HumanMessage\n",
    "\n",
    "nova_lite = ChatBedrockConverse(\n",
    "    model='amazon.nova-pro-v1:0',\n",
    "    max_tokens=1500,\n",
    "    top_p=0.1,\n",
    "    temperature=0.3\n",
    "    )\n",
    "\n",
    "def generate_prompt_text_2_video(user_prompt:str):\n",
    "    messages = [\n",
    "        (\"system\", \"\"\"\n",
    "        You are an agent expert in generating prompts for Video Generation Foundational Model (FM). The FM will create a video from the prompt you provide to it.\n",
    "        Rules:\n",
    "        - Video models can't reason or interpret commands\n",
    "        - The best approach is to describe the video as if writing an image caption or summary.\n",
    "        - The description is for 1 scene only\n",
    "        - The video will last only 6 seconds\n",
    "        - Include details about subject, action, environment, lighting, style and camera motion\n",
    "        - The prompt most be concise, max 512 characters\n",
    "        - Avoid negation words (no, not, without)\n",
    "        - Place camera movements descriptions at start or end of prompt\n",
    "        \n",
    "        <examples>\n",
    "        <example_1>Closeup of a large seashell in the sand. Gentle waves flow around the shell. Camera zoom in.<example_1>\n",
    "        <example_2>Cinematic dolly shot of a juicy cheeseburger with melting cheese,  fries, and a condensation-covered cola on a worn diner table. Natural lighting, visible steam and droplets. 4k, photorealistic, shallow depth of field<example_2>\n",
    "        <example_3>A snowman in a Venetian gondola ride, 4k, high resolution.<example_3>\n",
    "        <example_4>Noodles falling into a bowl of soup.<example_4>\n",
    "        <example_5>The camera pans left across a cozy, well-equipped kitchen, with sunlight streaming through large windows and illuminating the gleaming countertops and appliances. A steam-filled pot bubbles on the stovetop, hinting at the culinary creations to come.<example_5>\n",
    "        <example_6>A teddy bear in a leather jacket, baseball cap, and sunglasses playing guitar in front of a waterfall.<example_6>\n",
    "        <example_7>The astronaut and his dog watch fireworks, high contrast.<example_7>\n",
    "        <example_8>A pumpkin exploding, slow motion.<example_8>\n",
    "        <example_9>A cavern lit by shafts of light revealing hidden underground pools, camera rolls anti-clockwise.<example_9>\n",
    "        <example_10>Arc shot on a salad with dressing, olives and other vegetables; 4k; Cinematic.<example_10>\n",
    "        <example_11>Clothes hanging on a thread to dry, windy; sunny day; 4k; Cinematic; highest quality.<example_11>\n",
    "        <example_12>Slow cam of a man middle age; 4k; Cinematic; in a sunny day; peaceful; highest quality; dolly in.<example_12>\n",
    "        <examples>\n",
    "        \"\"\"),\n",
    "        (\"user\", user_prompt)\n",
    "    ]\n",
    "\n",
    "    response = nova_lite.invoke(messages)\n",
    "    #print(f\"Request ID: {response.id}\")\n",
    "    response.pretty_print()\n",
    "    print(f'Characters: {len(response.content)}')\n"
   ]
  },
  {
   "cell_type": "code",
   "execution_count": null,
   "metadata": {},
   "outputs": [
    {
     "name": "stdout",
     "output_type": "stream",
     "text": [
      "==================================\u001b[1m Ai Message \u001b[0m==================================\n",
      "\n",
      "First person view, cinematic dolly forward shot as a majestic wolf enters the frame, its fur glistening under the dappled sunlight filtering through the trees.\n",
      "Characters: 159\n"
     ]
    }
   ],
   "source": [
    "user_prompt=\"Refine this prompt: First person view, a wolf enters; dolly forward, cinematic\"\n",
    "generate_prompt_text_2_video(user_prompt=user_prompt)"
   ]
  },
  {
   "cell_type": "markdown",
   "metadata": {},
   "source": [
    "## Meta-prompt for Image-to-Video"
   ]
  },
  {
   "cell_type": "code",
   "execution_count": null,
   "metadata": {},
   "outputs": [],
   "source": [
    "from langchain_aws import ChatBedrockConverse\n",
    "from langchain_core.messages import HumanMessage\n",
    "\n",
    "nova_lite = ChatBedrockConverse(\n",
    "    model='amazon.nova-pro-v1:0',\n",
    "    max_tokens=1500,\n",
    "    top_p=0.1,\n",
    "    temperature=0.3\n",
    "    )\n",
    "\n",
    "def generate_prompt_image_2_video(user_prompt:str,type):\n",
    "    messages = [\n",
    "        (\"system\", f\"\"\"\n",
    "        You are an agent expert in generating prompts for Video Generation Foundational Model (FM). The FM will create a video from the prompt you provide to it.\n",
    "        Rules:\n",
    "        - Video models can't reason or interpret commands\n",
    "        - The best approach is to describe the video as if writing an image caption or summary.\n",
    "        - The description is for 1 scene only\n",
    "        - The video will last only 6 seconds\n",
    "        - The image provided will convey subject and style to the video.\n",
    "        - Use the prompt to describe {type} only.\n",
    "        - The prompt most be concise, max 512 characters\n",
    "        - Avoid negation words (no, not, without)\n",
    "        - Place camera movements descriptions at start or end of prompt\n",
    "        \n",
    "        <examples>\n",
    "        <example_1>Dolly forward.<example_1>\n",
    "        <example_2>Cinematic dolly shot of a juicy cheeseburger with melting cheese,  fries, and a condensation-covered cola on a worn diner table. Natural lighting, visible steam and droplets. 4k, photorealistic, shallow depth of field<example_2>\n",
    "        <example_3>Dynamic handheld shot: the dog looks to the left as colored holiday lights on its body blink rhythmically<example_3>\n",
    "        <examples>\n",
    "        \"\"\"),\n",
    "        (\"user\", user_prompt)\n",
    "    ]\n",
    "\n",
    "    response = nova_lite.invoke(messages)\n",
    "    #print(f\"Request ID: {response.id}\")\n",
    "    response.pretty_print()\n",
    "    print(f'Characters: {len(response.content)}')\n",
    "    return response.content\n"
   ]
  },
  {
   "cell_type": "code",
   "execution_count": null,
   "metadata": {},
   "outputs": [
    {
     "name": "stdout",
     "output_type": "stream",
     "text": [
      "==================================\u001b[1m Ai Message \u001b[0m==================================\n",
      "\n",
      "Dolly in. A woman in a gym, wearing workout clothes, repeatedly punches a heavy bag with determination, causing it to swing.\n",
      "Characters: 124\n"
     ]
    },
    {
     "data": {
      "text/plain": [
       "'Dolly in. A woman in a gym, wearing workout clothes, repeatedly punches a heavy bag with determination, causing it to swing.'"
      ]
     },
     "metadata": {},
     "output_type": "display_data"
    }
   ],
   "source": [
    "['camera motion','subject actions','changes over time']\n",
    "user_prompt=\"Make a video to promote a hair dryer\"\n",
    "generate_prompt_image_2_video(user_prompt=user_prompt,type='subject actions')\n"
   ]
  }
 ],
 "metadata": {
  "language_info": {
   "name": "python"
  }
 },
 "nbformat": 4,
 "nbformat_minor": 2
}
