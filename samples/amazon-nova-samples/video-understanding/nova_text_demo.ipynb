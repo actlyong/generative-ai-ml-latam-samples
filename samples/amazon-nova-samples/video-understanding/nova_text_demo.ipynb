{
 "cells": [
  {
   "cell_type": "markdown",
   "metadata": {},
   "source": [
    "# Video Understanding Using Amazon Nova Models\n",
    "\n",
    "In this notebook we will demonstrate how to use [Amazon Nova](https://aws.amazon.com/ai/generative-ai/nova/) models for the task of video understanding."
   ]
  },
  {
   "cell_type": "markdown",
   "metadata": {},
   "source": [
    "To execute the cells in this notebook you need to enable access to the following models on Bedrock:\n",
    "\n",
    "* Amazon Nova Pro\n",
    "* Amazon Nova Reel\n",
    "\n",
    "see [Add or remove access to Amazon Bedrock foundation models](https://docs.aws.amazon.com/bedrock/latest/userguide/model-access-modify.html) to manage the access to models in Amazon Bedrock."
   ]
  },
  {
   "cell_type": "markdown",
   "metadata": {},
   "source": [
    "## Understanding Videos with Less Than 25MB Size"
   ]
  },
  {
   "cell_type": "markdown",
   "metadata": {},
   "source": [
    "With the following cell we are going to analyze a videos contained in our workspace.\n",
    "\n",
    "We define `analyze_video` function for this.\n",
    "\n",
    "We need to provide the user prompt and the file name to use.\n",
    "\n",
    "We will get a textual analysis anwering the user request."
   ]
  },
  {
   "cell_type": "code",
   "execution_count": 1,
   "metadata": {},
   "outputs": [],
   "source": [
    "# !pip install boto3 --upgrade # Install the latest version of boto3"
   ]
  },
  {
   "cell_type": "code",
   "execution_count": 3,
   "metadata": {},
   "outputs": [
    {
     "name": "stdout",
     "output_type": "stream",
     "text": [
      "sagemaker.config INFO - Not applying SDK defaults from location: /etc/xdg/sagemaker/config.yaml\n",
      "sagemaker.config INFO - Not applying SDK defaults from location: /home/sagemaker-user/.config/sagemaker/config.yaml\n"
     ]
    }
   ],
   "source": [
    "import base64\n",
    "#import boto3\n",
    "from boto3 import session\n",
    "import json\n",
    "\n",
    "from sagemaker import Session, get_execution_role\n",
    "from sagemaker.s3 import S3Downloader # import S3Downloader\n",
    "\n"
   ]
  },
  {
   "cell_type": "code",
   "execution_count": 95,
   "metadata": {},
   "outputs": [],
   "source": [
    "AWS_REGION = \"us-east-1\"\n",
    "\n",
    "boto3_session = session.Session(region_name=AWS_REGION)\n",
    "\n",
    "sm_session = Session(boto3_session)\n",
    "\n",
    "bedrock_runtime = boto3_session.client(\"bedrock-runtime\")\n",
    "\n",
    "def analyze_video(file_name:str, user_prompt:str):\n",
    "    # Open the image you'd like to use and encode it as a Base64 string.\n",
    "    file_path = f\"videos/{file_name}.mov\"\n",
    "    with open(file_path, \"rb\") as video_file:\n",
    "        binary_data = video_file.read()\n",
    "        base_64_encoded_data = base64.b64encode(binary_data)\n",
    "        base64_string = base_64_encoded_data.decode(\"utf-8\")\n",
    "\n",
    "    messages = [{\n",
    "            \"role\": \"user\",\n",
    "            \"content\": [\n",
    "                {\n",
    "                    \"video\": {\n",
    "                        \"format\": \"mov\",\n",
    "                        \"source\": {\"bytes\": base64_string}}},\n",
    "                {\n",
    "                    \"text\": \"You are an expert media analyst. Identify if the bag in the video is broken\"}]}]\n",
    "\n",
    "    # Invoke the model and extract the response body.\n",
    "    response = bedrock_runtime.invoke_model(modelId='amazon.nova-pro-v1:0',\n",
    "                                body=json.dumps({\n",
    "                                    \"messages\": messages,\n",
    "                                    \"inferenceConfig\": {\n",
    "                                        \"max_new_tokens\": 300,\n",
    "                                        \"top_p\": 0.1,\n",
    "                                        \"temperature\": 0.3}}))\n",
    "    model_response = json.loads(response[\"body\"].read())\n",
    "    # Pretty print the response JSON.\n",
    "    #print(\"[Full Response]\")\n",
    "    print(json.dumps(model_response, indent=2))\n",
    "    # Print the text content for easy readability.\n",
    "    content_text = model_response[\"output\"][\"message\"][\"content\"][0][\"text\"]\n",
    "    #print(\"\\n[Response Content Text]\")\n",
    "    #return content_text\n"
   ]
  },
  {
   "cell_type": "markdown",
   "metadata": {},
   "source": [
    "We use the previously defined function in the following cell:"
   ]
  },
  {
   "cell_type": "code",
   "execution_count": 96,
   "metadata": {},
   "outputs": [
    {
     "name": "stdout",
     "output_type": "stream",
     "text": [
      "{\n",
      "  \"output\": {\n",
      "    \"message\": {\n",
      "      \"content\": [\n",
      "        {\n",
      "          \"text\": \"The bag in the video appears to be broken. There is a noticeable tear or hole in the fabric, which suggests damage.\"\n",
      "        }\n",
      "      ],\n",
      "      \"role\": \"assistant\"\n",
      "    }\n",
      "  },\n",
      "  \"stopReason\": \"end_turn\",\n",
      "  \"usage\": {\n",
      "    \"inputTokens\": 2898,\n",
      "    \"outputTokens\": 25,\n",
      "    \"totalTokens\": 2923\n",
      "  }\n",
      "}\n"
     ]
    }
   ],
   "source": [
    "file_name = \"damaged_bag\"\n",
    "user_prompt = \"You are an expert media analyst. Identify if the bag in the video is broken\"\n",
    "analyze_video(file_name=file_name, user_prompt=user_prompt)"
   ]
  },
  {
   "cell_type": "markdown",
   "metadata": {},
   "source": [
    "We now use another video and ask the same question:"
   ]
  },
  {
   "cell_type": "code",
   "execution_count": 97,
   "metadata": {},
   "outputs": [
    {
     "name": "stdout",
     "output_type": "stream",
     "text": [
      "{\n",
      "  \"output\": {\n",
      "    \"message\": {\n",
      "      \"content\": [\n",
      "        {\n",
      "          \"text\": \"The bag in the video does not appear to be broken. It is being pulled along the ground without any visible damage or malfunction.\"\n",
      "        }\n",
      "      ],\n",
      "      \"role\": \"assistant\"\n",
      "    }\n",
      "  },\n",
      "  \"stopReason\": \"end_turn\",\n",
      "  \"usage\": {\n",
      "    \"inputTokens\": 2322,\n",
      "    \"outputTokens\": 26,\n",
      "    \"totalTokens\": 2348\n",
      "  }\n",
      "}\n"
     ]
    }
   ],
   "source": [
    "file_name = \"bag\"\n",
    "user_prompt = \"You are an expert media analyst. Identify if the bag in the video is broken\"\n",
    "analyze_video(file_name=file_name, user_prompt=user_prompt)"
   ]
  },
  {
   "cell_type": "markdown",
   "metadata": {},
   "source": [
    "## Understanding Videos with More Than 25MB Size\n",
    "(Maximum size is 1GB)"
   ]
  },
  {
   "cell_type": "markdown",
   "metadata": {},
   "source": [
    "In the following cell we are defininf a function to analyze a video.\n",
    "\n",
    "In order to process more than 25MB videos we need to upload them in a S3 bucket.\n",
    "\n",
    "In the `analyze_video_from_s3` function, we need to provide the S3 URI, the account id owner of this bucket and the user prompt.\n",
    "\n"
   ]
  },
  {
   "cell_type": "code",
   "execution_count": 98,
   "metadata": {},
   "outputs": [],
   "source": [
    "def analyze_video_from_s3(s3_uri,bucket_owner,user_prompt):\n",
    "    message_list = [\n",
    "        {\n",
    "            \"role\": \"user\",\n",
    "            \"content\": [\n",
    "                {\n",
    "                    \"video\": {\n",
    "                        \"format\": \"mov\",\n",
    "                        \"source\": {\n",
    "                            \"s3Location\": {\n",
    "                                \"uri\": s3_uri, \n",
    "                                #\"bucketOwner\": bucket_owner\n",
    "                            }\n",
    "                        }\n",
    "                    }\n",
    "                },\n",
    "                {\n",
    "                    \"text\": user_prompt\n",
    "                }\n",
    "            ]\n",
    "        }\n",
    "    ]\n",
    "    # Configure the inference parameters.\n",
    "    inf_params = {\"max_new_tokens\": 300, \"top_p\": 0.1, \"top_k\": 20, \"temperature\": 0.3}\n",
    "\n",
    "    native_request = {\n",
    "        \"schemaVersion\": \"messages-v1\",\n",
    "        \"messages\": message_list,\n",
    "        \"system\": system_list,\n",
    "        \"inferenceConfig\": inf_params,\n",
    "    }\n",
    "    # Invoke the model and extract the response body.\n",
    "    response = client.invoke_model(modelId=MODEL_ID, body=json.dumps(native_request))\n",
    "    model_response = json.loads(response[\"body\"].read())\n",
    "    # Pretty print the response JSON.\n",
    "    #print(\"[Full Response]\")\n",
    "    print(json.dumps(model_response, indent=2))\n",
    "    # Print the text content for easy readability.\n",
    "    content_text = model_response[\"output\"][\"message\"][\"content\"][0][\"text\"]\n",
    "    #print(\"\\n[Response Content Text]\")\n",
    "    #print(content_text)"
   ]
  },
  {
   "cell_type": "markdown",
   "metadata": {},
   "source": [
    "In the following cell we are using the previously defined function:"
   ]
  },
  {
   "cell_type": "code",
   "execution_count": 99,
   "metadata": {},
   "outputs": [
    {
     "name": "stdout",
     "output_type": "stream",
     "text": [
      "{\n",
      "  \"output\": {\n",
      "    \"message\": {\n",
      "      \"content\": [\n",
      "        {\n",
      "          \"text\": \"The video depicts a football game in progress. Initially, two teams are lined up on the field, preparing for a play. The players are in their respective positions, with the offensive team ready to execute a play. The quarterback takes the snap and throws a pass, which is caught by a receiver. The receiver is then tackled by a defender, leading to a change in possession. The teams reset their formations, and the play continues with the new offensive team taking over. The video captures the dynamic and strategic nature of football, highlighting the coordination and skill required by the players.\"\n",
      "        }\n",
      "      ],\n",
      "      \"role\": \"assistant\"\n",
      "    }\n",
      "  },\n",
      "  \"stopReason\": \"end_turn\",\n",
      "  \"usage\": {\n",
      "    \"inputTokens\": 3490,\n",
      "    \"outputTokens\": 115,\n",
      "    \"totalTokens\": 3605\n",
      "  }\n",
      "}\n"
     ]
    }
   ],
   "source": [
    "s3_uri = \"s3://bedrock-video-generation-us-east-1-y5s9fj/video_understanding/nfl.mov\"\n",
    "bucket_owner = \"912212378130\"\n",
    "user_prompt = \"You are an expert media analyst. Summarize what is happening in the video\"\n",
    "analyze_video_from_s3(s3_uri=s3_uri, bucket_owner=bucket_owner, user_prompt=user_prompt)"
   ]
  }
 ],
 "metadata": {
  "kernelspec": {
   "display_name": "Python 3 (ipykernel)",
   "language": "python",
   "name": "python3"
  },
  "language_info": {
   "codemirror_mode": {
    "name": "ipython",
    "version": 3
   },
   "file_extension": ".py",
   "mimetype": "text/x-python",
   "name": "python",
   "nbconvert_exporter": "python",
   "pygments_lexer": "ipython3",
   "version": "3.11.11"
  }
 },
 "nbformat": 4,
 "nbformat_minor": 4
}
