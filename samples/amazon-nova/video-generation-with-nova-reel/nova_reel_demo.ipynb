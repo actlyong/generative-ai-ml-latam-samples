{
 "cells": [
  {
   "cell_type": "markdown",
   "metadata": {},
   "source": [
    "# Amazon Nova Reel Demo"
   ]
  },
  {
   "cell_type": "markdown",
   "metadata": {},
   "source": [
    "### Primero vamos a importar las librerías"
   ]
  },
  {
   "cell_type": "code",
   "execution_count": null,
   "metadata": {},
   "outputs": [],
   "source": [
    "import random\n",
    "import time\n",
    "import boto3\n",
    "\n",
    "import base64"
   ]
  },
  {
   "cell_type": "markdown",
   "metadata": {},
   "source": [
    "### Un ejemplo de como generar un video usando Bedrock `start_async_invoke()` (de boto3) a partir de **texto**\n",
    "Se requiere especificar la región, el bucket S3 de destino donde se almacenará el video y un prompt\n",
    "Actualmente la duración es de 6 segundos únicamente, con 24 fps, dimensiones de 1280x720. Se puede especificar una semilla para reproducir resultados.\n",
    "\n",
    "Toma alrededor de 5 min generar el video"
   ]
  },
  {
   "cell_type": "code",
   "execution_count": null,
   "metadata": {},
   "outputs": [],
   "source": [
    "AWS_REGION = \"us-east-1\"\n",
    "MODEL_ID = \"amazon.nova-reel-v1:0\"\n",
    "SLEEP_TIME = 30\n",
    "S3_DESTINATION_BUCKET = \"bedrock-video-generation-us-east-1-y5s9fj\"\n",
    "\n",
    "video_prompt = \"Closeup of a large seashell in the sand. Gentle waves flow all around the shell. Sunset light. Camera zoom in very close.\"\n",
    "\n",
    "bedrock_runtime = boto3.client(\"bedrock-runtime\", region_name=AWS_REGION)\n",
    "model_input = {\n",
    "    \"taskType\": \"TEXT_VIDEO\",\n",
    "    \"textToVideoParams\": {\"text\": video_prompt},\n",
    "    \"videoGenerationConfig\": {\n",
    "        \"durationSeconds\": 6,\n",
    "        \"fps\": 24,\n",
    "        \"dimension\": \"1280x720\",\n",
    "        \"seed\": random.randint(0, 2147483648)\n",
    "    }\n",
    "}\n",
    "\n",
    "invocation = bedrock_runtime.start_async_invoke(\n",
    "    modelId=MODEL_ID,\n",
    "    modelInput=model_input,\n",
    "    outputDataConfig={\"s3OutputDataConfig\": {\"s3Uri\": f\"s3://{S3_DESTINATION_BUCKET}\"}}\n",
    ")\n",
    "\n",
    "invocation_arn = invocation[\"invocationArn\"]\n",
    "s3_prefix = invocation_arn.split('/')[-1]\n",
    "s3_location = f\"s3://{S3_DESTINATION_BUCKET}/{s3_prefix}\"\n",
    "print(f\"\\nS3 URI: {s3_location}\")\n",
    "\n",
    "while True:\n",
    "    response = bedrock_runtime.get_async_invoke(\n",
    "        invocationArn=invocation_arn\n",
    "    )\n",
    "    status = response[\"status\"]\n",
    "    print(f\"Status: {status}\")\n",
    "    if status != \"InProgress\":\n",
    "        break\n",
    "    time.sleep(SLEEP_TIME)\n",
    "\n",
    "if status == \"Completed\":\n",
    "    print(f\"\\nVideo is ready at {s3_location}/output.mp4\")\n",
    "else:\n",
    "    print(f\"\\nVideo generation status: {status}\")"
   ]
  },
  {
   "cell_type": "markdown",
   "metadata": {},
   "source": [
    "Podemos descargar el video desde s3 hacia nuestro workspace con:"
   ]
  },
  {
   "cell_type": "code",
   "execution_count": null,
   "metadata": {},
   "outputs": [],
   "source": [
    "!aws s3 cp s3://{S3_DESTINATION_BUCKET}/{s3_prefix}/output.mp4 ./output-from-text.mp4"
   ]
  },
  {
   "cell_type": "markdown",
   "metadata": {},
   "source": [
    "Con la función `Video` podemos tener una visualización en los jupyternotebooks de los videos que generamos"
   ]
  },
  {
   "cell_type": "code",
   "execution_count": null,
   "metadata": {},
   "outputs": [],
   "source": [
    "from IPython.display import Video\n",
    "\n",
    "Video(\"output-from-text.mp4\")"
   ]
  },
  {
   "cell_type": "markdown",
   "metadata": {},
   "source": [
    "### Un ejemplo de como generar un video usando Bedrock `start_async_invoke()` (de boto3) a partir de **texto e imagen**\n",
    "\n",
    "Para este ejemplo adicionalmente requerimos de especificar una imágen a partir de su representación en bytes"
   ]
  },
  {
   "cell_type": "code",
   "execution_count": null,
   "metadata": {},
   "outputs": [],
   "source": [
    "input_image_path = \"seascape.png\"\n",
    "video_prompt = \"drone view flying over a coastal landscape\"\n",
    "\n",
    "# Load the input image as a Base64 string.\n",
    "with open(input_image_path, \"rb\") as f:\n",
    "    input_image_bytes = f.read()\n",
    "    input_image_base64 = base64.b64encode(input_image_bytes).decode(\"utf-8\")\n",
    "\n",
    "model_input = {\n",
    "    \"taskType\": \"TEXT_VIDEO\",\n",
    "    \"textToVideoParams\": {\n",
    "        \"text\": video_prompt,\n",
    "        \"images\": [{ \"format\": \"png\", \"source\": { \"bytes\": input_image_base64 } }]\n",
    "        },\n",
    "    \"videoGenerationConfig\": {\n",
    "        \"durationSeconds\": 6,\n",
    "        \"fps\": 24,\n",
    "        \"dimension\": \"1280x720\",\n",
    "        \"seed\": random.randint(0, 2147483648)\n",
    "    }\n",
    "}\n",
    "\n",
    "invocation = bedrock_runtime.start_async_invoke(\n",
    "    modelId=MODEL_ID,\n",
    "    modelInput=model_input,\n",
    "    outputDataConfig={\"s3OutputDataConfig\": {\"s3Uri\": f\"s3://{S3_DESTINATION_BUCKET}\"}}\n",
    ")\n",
    "\n",
    "invocation_arn = invocation[\"invocationArn\"]\n",
    "s3_prefix = invocation_arn.split('/')[-1]\n",
    "s3_location = f\"s3://{S3_DESTINATION_BUCKET}/{s3_prefix}\"\n",
    "\n",
    "print(f\"\\nS3 URI: {s3_location}\")\n",
    "\n",
    "while True:\n",
    "    response = bedrock_runtime.get_async_invoke(\n",
    "        invocationArn=invocation_arn\n",
    "    )\n",
    "    status = response[\"status\"]\n",
    "    print(f\"Status: {status}\")\n",
    "    if status != \"InProgress\":\n",
    "        break\n",
    "    time.sleep(SLEEP_TIME)\n",
    "if status == \"Completed\":\n",
    "    print(f\"\\nVideo is ready at {s3_location}/output.mp4\")\n",
    "else:\n",
    "    print(f\"\\nVideo generation status: {status}\")"
   ]
  },
  {
   "cell_type": "markdown",
   "metadata": {},
   "source": [
    "Descargamos el video desde s3 hacia nuestro workspace:"
   ]
  },
  {
   "cell_type": "code",
   "execution_count": null,
   "metadata": {},
   "outputs": [],
   "source": [
    "!aws s3 cp {s3_location}/output.mp4 ./output.mp4"
   ]
  },
  {
   "cell_type": "markdown",
   "metadata": {},
   "source": [
    "Visualización del vídeo:"
   ]
  },
  {
   "cell_type": "code",
   "execution_count": null,
   "metadata": {},
   "outputs": [],
   "source": [
    "Video(\"output.mp4\")"
   ]
  },
  {
   "cell_type": "code",
   "execution_count": 10,
   "metadata": {},
   "outputs": [],
   "source": [
    "import random\n",
    "import time\n",
    "import boto3\n",
    "\n",
    "import base64\n",
    "\n",
    "from IPython.display import Video\n",
    "\n",
    "import os\n"
   ]
  },
  {
   "cell_type": "code",
   "execution_count": 11,
   "metadata": {},
   "outputs": [],
   "source": [
    "AWS_REGION = \"us-east-1\"\n",
    "bedrock_runtime = boto3.client(\"bedrock-runtime\", region_name=AWS_REGION)"
   ]
  },
  {
   "cell_type": "markdown",
   "metadata": {},
   "source": [
    "### Aqui presentamos un función para generalizar la generación de video a partir de texto y texto + imágen\n",
    "En los parametros encontramos el prompt, nombre del archivo final, ruta de la imágen a utilizar (en caso de ser requerida), bucket de S3 destino y una opción para sobreescribir.\n",
    "Si el archivo ya existe en el espacio de trabajo, la función no generará otro video a menos que utilicemos la opción *overwrite*"
   ]
  },
  {
   "cell_type": "code",
   "execution_count": 12,
   "metadata": {},
   "outputs": [],
   "source": [
    "def generate_video(\n",
    "        video_prompt,\n",
    "        output_name = \"output\",\n",
    "        input_image_path = \"\",\n",
    "        S3_DESTINATION_BUCKET = \"bedrock-video-generation-us-east-1-y5s9fj\",\n",
    "        AWS_REGION = \"us-east-1\",\n",
    "        overwrite=False,\n",
    "):\n",
    "    \n",
    "    MODEL_ID = \"amazon.nova-reel-v1:0\"\n",
    "    SLEEP_TIME = 30\n",
    "\n",
    "    if input_image_path != \"\" and os.path.isfile(input_image_path):\n",
    "        with open(input_image_path, \"rb\") as f:\n",
    "            input_image_bytes = f.read()\n",
    "            input_image_base64 = base64.b64encode(input_image_bytes).decode(\"utf-8\")\n",
    "\n",
    "        model_input = {\n",
    "            \"taskType\": \"TEXT_VIDEO\",\n",
    "            \"textToVideoParams\": {\n",
    "                \"text\": video_prompt,\n",
    "                \"images\": [{ \"format\": \"png\", \"source\": { \"bytes\": input_image_base64 } }]\n",
    "                },\n",
    "            \"videoGenerationConfig\": {\n",
    "                \"durationSeconds\": 6,\n",
    "                \"fps\": 24,\n",
    "                \"dimension\": \"1280x720\",\n",
    "                \"seed\": random.randint(0, 2147483648)\n",
    "            }\n",
    "        }\n",
    "    else:\n",
    "\n",
    "        model_input = {\n",
    "            \"taskType\": \"TEXT_VIDEO\",\n",
    "            \"textToVideoParams\": {\"text\": video_prompt},\n",
    "            \"videoGenerationConfig\": {\n",
    "                \"durationSeconds\": 6,\n",
    "                \"fps\": 24,\n",
    "                \"dimension\": \"1280x720\",\n",
    "                \"seed\": random.randint(0, 2147483648)\n",
    "            }\n",
    "        }\n",
    "\n",
    "    if os.path.isfile(f\"{output_name}.mp4\") and not overwrite:\n",
    "        print(\"File exists\")\n",
    "    else:\n",
    "        print(\"File does not exist\")\n",
    "\n",
    "        invocation = bedrock_runtime.start_async_invoke(\n",
    "            modelId=MODEL_ID,\n",
    "            modelInput=model_input,\n",
    "            outputDataConfig={\"s3OutputDataConfig\": {\"s3Uri\": f\"s3://{S3_DESTINATION_BUCKET}\"}}\n",
    "        )\n",
    "\n",
    "        invocation_arn = invocation[\"invocationArn\"]\n",
    "        s3_prefix = invocation_arn.split('/')[-1]\n",
    "        s3_location = f\"s3://{S3_DESTINATION_BUCKET}/{s3_prefix}\"\n",
    "        print(f\"\\nS3 URI: {s3_location}\")\n",
    "\n",
    "        while True:\n",
    "            response = bedrock_runtime.get_async_invoke(\n",
    "                invocationArn=invocation_arn\n",
    "            )\n",
    "            status = response[\"status\"]\n",
    "            print(f\"Status: {status}\")\n",
    "            if status != \"InProgress\":\n",
    "                break\n",
    "            time.sleep(SLEEP_TIME)\n",
    "\n",
    "        if status == \"Completed\":\n",
    "            print(f\"\\nVideo is ready at {s3_location}/output.mp4\")\n",
    "        else:\n",
    "            print(f\"\\nVideo generation status: {status}\")\n",
    "\n",
    "        !aws s3 cp s3://{S3_DESTINATION_BUCKET}/{s3_prefix}/output.mp4 ./{output_name}.mp4\n",
    "\n",
    "    return Video(f\"{output_name}.mp4\")"
   ]
  },
  {
   "cell_type": "code",
   "execution_count": 13,
   "metadata": {},
   "outputs": [
    {
     "name": "stdout",
     "output_type": "stream",
     "text": [
      "File exists\n"
     ]
    },
    {
     "data": {
      "text/html": [
       "<video src=\"caparazon.mp4\" controls  >\n",
       "      Your browser does not support the <code>video</code> element.\n",
       "    </video>"
      ],
      "text/plain": [
       "<IPython.core.display.Video object>"
      ]
     },
     "execution_count": 13,
     "metadata": {},
     "output_type": "execute_result"
    }
   ],
   "source": [
    "generate_video(\"Primer plano de un caparazón en la arena. Las olas suaves fluyen por todo el caparazón. Con luz del atardecer. Acercamiento de cámara lento.\", output_name=\"caparazon\")"
   ]
  },
  {
   "cell_type": "code",
   "execution_count": 14,
   "metadata": {},
   "outputs": [
    {
     "name": "stdout",
     "output_type": "stream",
     "text": [
      "File exists\n"
     ]
    },
    {
     "data": {
      "text/html": [
       "<video src=\"costa.mp4\" controls  >\n",
       "      Your browser does not support the <code>video</code> element.\n",
       "    </video>"
      ],
      "text/plain": [
       "<IPython.core.display.Video object>"
      ]
     },
     "execution_count": 14,
     "metadata": {},
     "output_type": "execute_result"
    }
   ],
   "source": [
    "generate_video(\"vista de dron volando sobre un paisaje costero\", input_image_path='seascape.png', output_name=\"costa\")"
   ]
  },
  {
   "cell_type": "code",
   "execution_count": null,
   "metadata": {},
   "outputs": [],
   "source": [
    "generate_video(\"Una persona comiendose un taco con salsa roja\", output_name=\"taco2\")"
   ]
  },
  {
   "cell_type": "code",
   "execution_count": null,
   "metadata": {},
   "outputs": [],
   "source": [
    "generate_video(video_prompt=\"Show a sleek hair dryer with turbo jet technology, highlighting powerful airflow and quick drying results.\",\n",
    "output_name='secadora_pelo')"
   ]
  },
  {
   "cell_type": "code",
   "execution_count": null,
   "metadata": {},
   "outputs": [],
   "source": [
    "video_prompt = \"\"\"\n",
    "Show a quick, vibrant shot of a steaming cup of coffee with aromatic steam, placed on a cozy, rustic table with a warm, inviting coffee shop background,\n",
    "accompanied by the sound of a coffee machine and soft, uplifting music\n",
    "\"\"\"\n",
    "generate_video(video_prompt = video_prompt, output_name='coffee_shop')\n"
   ]
  },
  {
   "cell_type": "code",
   "execution_count": null,
   "metadata": {},
   "outputs": [],
   "source": [
    "video_prompt = \"\"\"\n",
    "Create a vibrant 2D animation of nutritionist's office, with smooth panning to highlight the interaction.\n",
    "Show a friendly, seated and smiling blonde nutritionist in her nutriologist's white coat handing a fresh, colorful smoothie to a delighted client in a green t-shirt.\n",
    "Set the scene in a bright, modern nutritionist's office and a white wall to enhance the welcoming atmosphere.\n",
    "\"\"\"\n",
    "generate_video(video_prompt = video_prompt, output_name='nutritionist10')"
   ]
  },
  {
   "cell_type": "code",
   "execution_count": null,
   "metadata": {},
   "outputs": [],
   "source": [
    "video_prompt = \"\"\"\n",
    "Capture a realistic, candid shot of a well-organized travel bag, neatly packed and zipped, using a smartphone camera with slight handheld movement, natural lighting, and a casual angle.\n",
    "\"\"\"\n",
    "generate_video(video_prompt = video_prompt, output_name='bag')"
   ]
  },
  {
   "cell_type": "code",
   "execution_count": null,
   "metadata": {},
   "outputs": [],
   "source": [
    "video_prompt = \"\"\"\n",
    "Capture a handheld, realistic shot of a damaged travel bag, showing tears and wear. Use natural lighting, slight camera shake for authenticity, and focus on the bag's condition.\n",
    "\"\"\"\n",
    "generate_video(video_prompt = video_prompt, output_name='damaged_bag')"
   ]
  },
  {
   "cell_type": "markdown",
   "metadata": {},
   "source": [
    "# Nova Canvas + Nova Reel"
   ]
  },
  {
   "cell_type": "code",
   "execution_count": 15,
   "metadata": {},
   "outputs": [],
   "source": [
    "# Copyright Amazon.com, Inc. or its affiliates. All Rights Reserved.\n",
    "# SPDX-License-Identifier: Apache-2.0\n",
    "\"\"\"\n",
    "Shows how to generate an image from a text prompt with the Amazon Nova Canvas model (on demand).\n",
    "\"\"\"\n",
    "import base64\n",
    "import io\n",
    "import json\n",
    "import boto3\n",
    "from PIL import Image\n",
    "from botocore.config import Config\n",
    "\n",
    "from botocore.exceptions import ClientError\n",
    "\n",
    "class ImageError(Exception):\n",
    "    \"Custom exception for errors returned by Amazon Nova Canvas\"\n",
    "\n",
    "    def __init__(self, message):\n",
    "        self.message = message\n",
    "\n",
    "def generate_image_(model_id, body):\n",
    "    \"\"\"\n",
    "    Generate an image using Amazon Nova Canvas model on demand.\n",
    "    Args:\n",
    "        model_id (str): The model ID to use.\n",
    "        body (str) : The request body to use.\n",
    "    Returns:\n",
    "        image_bytes (bytes): The image generated by the model.\n",
    "    \"\"\"\n",
    "\n",
    "    bedrock = boto3.client(\n",
    "        service_name='bedrock-runtime',\n",
    "        config=Config(read_timeout=300)\n",
    "    )\n",
    "\n",
    "    accept = \"application/json\"\n",
    "    content_type = \"application/json\"\n",
    "\n",
    "    response = bedrock.invoke_model(\n",
    "        body=body, modelId=model_id, accept=accept, contentType=content_type\n",
    "    )\n",
    "    response_body = json.loads(response.get(\"body\").read())\n",
    "\n",
    "    base64_image = response_body.get(\"images\")[0]\n",
    "    base64_bytes = base64_image.encode('ascii')\n",
    "    image_bytes = base64.b64decode(base64_bytes)\n",
    "\n",
    "    finish_reason = response_body.get(\"error\")\n",
    "\n",
    "    if finish_reason is not None:\n",
    "        raise ImageError(f\"Image generation error. Error is {finish_reason}\")\n",
    "\n",
    "    return image_bytes\n",
    "\n",
    "def generate_image(prompt, image_output_name):\n",
    "\n",
    "    if os.path.isfile(f\"{image_output_name}.png\") and not overwrite:\n",
    "        print(\"File exists\")\n",
    "    else:\n",
    "        print(\"File does not exist\")\n",
    "\n",
    "        model_id = 'amazon.nova-canvas-v1:0'\n",
    "\n",
    "        body = json.dumps({\n",
    "            \"taskType\": \"TEXT_IMAGE\",\n",
    "            \"textToImageParams\": {\n",
    "                \"text\": prompt\n",
    "            },\n",
    "            \"imageGenerationConfig\": {\n",
    "                \"numberOfImages\": 1,\n",
    "                \"height\": 720, #Important!\n",
    "                \"width\": 1280, #Important!\n",
    "                \"cfgScale\": 8.0,\n",
    "                \"seed\": 0\n",
    "            }\n",
    "        })\n",
    "\n",
    "        try:\n",
    "            image_bytes = generate_image_(model_id=model_id,\n",
    "                                            body=body)\n",
    "            image = Image.open(io.BytesIO(image_bytes))\n",
    "            #image.show()\n",
    "            image.save(f\"{image_output_name}.png\")\n",
    "            return image\n",
    "\n",
    "        except ClientError as err:\n",
    "            message = err.response[\"Error\"][\"Message\"]\n",
    "            print(\"A client error occured: \" +\n",
    "                    format(message))\n",
    "        except ImageError as err:\n",
    "            print(err.message)\n",
    "\n",
    "        else:\n",
    "            print(\n",
    "                f\"Finished generating image with Amazon Nova Canvas  model {model_id}.\")\n",
    "    "
   ]
  },
  {
   "cell_type": "code",
   "execution_count": 16,
   "metadata": {},
   "outputs": [],
   "source": [
    "def generate_image_variation(prompt, image_output_name, image_name):\n",
    "\n",
    "    if os.path.isfile(f\"{image_output_name}.png\") and not overwrite:\n",
    "        print(\"File exists\")\n",
    "    else:\n",
    "\n",
    "        model_id = 'amazon.nova-canvas-v1:0'\n",
    "\n",
    "        # Read image from file and encode it as base64 string.\n",
    "        with open(f\"{image_name}.png\", \"rb\") as image_file:\n",
    "            input_image = base64.b64encode(image_file.read()).decode('utf8')\n",
    "\n",
    "        body = json.dumps({\n",
    "            \"taskType\": \"IMAGE_VARIATION\",\n",
    "            \"imageVariationParams\": {\n",
    "                \"text\": prompt,\n",
    "                \"negativeText\": \"bad quality, low resolution, cartoon\",\n",
    "                \"images\": [input_image],\n",
    "                \"similarityStrength\": 0.7,  # Range: 0.2 to 1.0\n",
    "            },\n",
    "            \"imageGenerationConfig\": {\n",
    "                \"numberOfImages\": 1,\n",
    "                \"height\": 720,\n",
    "                \"width\": 1280,\n",
    "                \"cfgScale\": 8.0\n",
    "            }\n",
    "        })\n",
    "\n",
    "        image_bytes = generate_image_(model_id=model_id,\n",
    "                                        body=body)\n",
    "        image = Image.open(io.BytesIO(image_bytes))\n",
    "        #image.show()\n",
    "        image.save(f\"{image_output_name}.png\")\n",
    "        return image"
   ]
  },
  {
   "cell_type": "code",
   "execution_count": null,
   "metadata": {},
   "outputs": [],
   "source": [
    "image_prompt = \"\"\"\n",
    "A cartoon of a seated and smiling with eyes closed blonde nutritionist in her white coat talking to a delighted client in a green t-shirt.\n",
    "Set the scene in a bright, modern nutritionist's office and a white wall to enhance the welcoming atmosphere.\n",
    "\"\"\"\n",
    "generate_image(prompt=image_prompt, image_output_name='nutritionist')"
   ]
  },
  {
   "cell_type": "code",
   "execution_count": 19,
   "metadata": {},
   "outputs": [
    {
     "name": "stdout",
     "output_type": "stream",
     "text": [
      "File exists\n"
     ]
    },
    {
     "data": {
      "text/html": [
       "<video src=\"nutritionist_2.mp4\" controls  >\n",
       "      Your browser does not support the <code>video</code> element.\n",
       "    </video>"
      ],
      "text/plain": [
       "<IPython.core.display.Video object>"
      ]
     },
     "execution_count": 19,
     "metadata": {},
     "output_type": "execute_result"
    }
   ],
   "source": [
    "generate_video(\n",
    "\"\"\"\n",
    "smooth panning\n",
    "\"\"\"\n",
    "    , input_image_path='nutritionist.png', output_name=\"nutritionist_2\")"
   ]
  },
  {
   "cell_type": "code",
   "execution_count": null,
   "metadata": {},
   "outputs": [],
   "source": [
    "generate_video(\n",
    "\"\"\"\n",
    "zoom out\n",
    "\"\"\"\n",
    "    , input_image_path='nutritionist.png', output_name=\"nutritionist_3\")"
   ]
  },
  {
   "cell_type": "code",
   "execution_count": null,
   "metadata": {},
   "outputs": [],
   "source": [
    "image_prompt = \"\"\"\n",
    "Realistic image of a luxury fast golden car, sleek modern design, shiny metallic gold color, low angle view highlighting the curves and aerodynamic features, bright daylight with subtle shadows, high-resolution detail.\n",
    "\"\"\"\n",
    "generate_image(prompt=image_prompt, image_output_name='luxury_car')"
   ]
  },
  {
   "cell_type": "code",
   "execution_count": null,
   "metadata": {},
   "outputs": [],
   "source": [
    "image_prompt_variation = \"\"\"\n",
    "Another shoot from the car\n",
    "\"\"\"\n",
    "generate_image_variation(prompt=image_prompt_variation, image_output_name='luxury_car2',image_name='luxury_car')"
   ]
  },
  {
   "cell_type": "code",
   "execution_count": 17,
   "metadata": {},
   "outputs": [
    {
     "name": "stdout",
     "output_type": "stream",
     "text": [
      "File exists\n"
     ]
    },
    {
     "data": {
      "text/html": [
       "<video src=\"luxury_car.mp4\" controls  >\n",
       "      Your browser does not support the <code>video</code> element.\n",
       "    </video>"
      ],
      "text/plain": [
       "<IPython.core.display.Video object>"
      ]
     },
     "execution_count": 17,
     "metadata": {},
     "output_type": "execute_result"
    }
   ],
   "source": [
    "generate_video(\"zoom out\", input_image_path='luxury_car.png', output_name=\"luxury_car\")"
   ]
  },
  {
   "cell_type": "code",
   "execution_count": 18,
   "metadata": {},
   "outputs": [
    {
     "name": "stdout",
     "output_type": "stream",
     "text": [
      "File exists\n"
     ]
    },
    {
     "data": {
      "text/html": [
       "<video src=\"luxury_car2.mp4\" controls  >\n",
       "      Your browser does not support the <code>video</code> element.\n",
       "    </video>"
      ],
      "text/plain": [
       "<IPython.core.display.Video object>"
      ]
     },
     "execution_count": 18,
     "metadata": {},
     "output_type": "execute_result"
    }
   ],
   "source": [
    "generate_video(\"zoom in\", input_image_path='luxury_car2.png', output_name=\"luxury_car2\")"
   ]
  },
  {
   "cell_type": "code",
   "execution_count": 20,
   "metadata": {},
   "outputs": [],
   "source": [
    "import tkinter as tk\n",
    "from tkinter import *\n",
    "import cv2\n",
    "from PIL import Image, ImageTk\n",
    "\n",
    "class VideoPlayer:\n",
    "    def __init__(self, window):\n",
    "        self.window = window\n",
    "        self.window.title(\"Video Player\")\n",
    "        \n",
    "        # Get video dimensions first\n",
    "        temp_vid = cv2.VideoCapture(\"luxury_car.mp4\")\n",
    "        self.video_width = int(temp_vid.get(cv2.CAP_PROP_FRAME_WIDTH))\n",
    "        self.video_height = int(temp_vid.get(cv2.CAP_PROP_FRAME_HEIGHT))\n",
    "        temp_vid.release()\n",
    "        \n",
    "        # Create canvas matching video dimensions\n",
    "        self.canvas = Canvas(window, width=self.video_width, height=self.video_height)\n",
    "        self.canvas.pack()\n",
    "        \n",
    "        # Load and display the initial image\n",
    "        self.setup_thumbnail()\n",
    "        \n",
    "        # Initialize video variables\n",
    "        self.video_source = \"luxury_car.mp4\"\n",
    "        self.vid = None\n",
    "        self.is_playing = False\n",
    "        self.delay = 15\n",
    "        self.photo = None\n",
    "\n",
    "        # Bind hover events to canvas\n",
    "        self.canvas.bind(\"<Enter>\", self.start_video)\n",
    "        self.canvas.bind(\"<Leave>\", self.stop_video)\n",
    "\n",
    "    def setup_thumbnail(self):\n",
    "        # Load and resize thumbnail to match video dimensions\n",
    "        self.thumbnail = Image.open(\"luxury_car.png\")\n",
    "        self.thumbnail = self.thumbnail.resize((self.video_width, self.video_height))\n",
    "        self.thumbnail_photo = ImageTk.PhotoImage(self.thumbnail)\n",
    "        \n",
    "        # Display thumbnail on canvas\n",
    "        self.canvas.delete(\"all\")\n",
    "        self.canvas.create_image(0, 0, image=self.thumbnail_photo, anchor=NW)\n",
    "\n",
    "    def start_video(self, event=None):\n",
    "        if not self.is_playing:\n",
    "            self.vid = cv2.VideoCapture(self.video_source)\n",
    "            self.is_playing = True\n",
    "            self.update_frame()\n",
    "\n",
    "    def stop_video(self, event=None):\n",
    "        if self.vid is not None:\n",
    "            self.vid.release()\n",
    "        self.is_playing = False\n",
    "        self.setup_thumbnail()  # Show the thumbnail again\n",
    "            \n",
    "    def update_frame(self):\n",
    "        if self.is_playing:\n",
    "            ret, frame = self.vid.read()\n",
    "            if ret:\n",
    "                # Convert frame from BGR to RGB\n",
    "                frame = cv2.cvtColor(frame, cv2.COLOR_BGR2RGB)\n",
    "                \n",
    "                # Convert frame to PhotoImage\n",
    "                frame_image = Image.fromarray(frame)\n",
    "                self.photo = ImageTk.PhotoImage(image=frame_image)\n",
    "                \n",
    "                # Clear canvas and show new frame\n",
    "                self.canvas.delete(\"all\")\n",
    "                self.canvas.create_image(0, 0, image=self.photo, anchor=NW)\n",
    "                \n",
    "                # Schedule next update\n",
    "                self.window.after(self.delay, self.update_frame)\n",
    "            else:\n",
    "                # Video ended - restart video\n",
    "                self.vid.release()\n",
    "                self.start_video()  # Restart video instead of stopping\n",
    "\n",
    "    def __del__(self):\n",
    "        if self.vid is not None:\n",
    "            self.vid.release()\n",
    "\n",
    "# Create main window and start application\n",
    "root = tk.Tk()\n",
    "app = VideoPlayer(root)\n",
    "root.mainloop()\n"
   ]
  },
  {
   "cell_type": "code",
   "execution_count": 21,
   "metadata": {},
   "outputs": [
    {
     "name": "stderr",
     "output_type": "stream",
     "text": [
      "2025-01-14 22:03:31.499 python[31610:95310789] _TIPropertyValueIsValid called with 16 on nil context!\n",
      "2025-01-14 22:03:31.499 python[31610:95310789] imkxpc_getApplicationProperty:reply: called with incorrect property value 16, bailing.\n",
      "2025-01-14 22:03:31.499 python[31610:95310789] Text input context does not respond to _valueForTIProperty:\n"
     ]
    }
   ],
   "source": [
    "import tkinter as tk\n",
    "from tkinter import *\n",
    "import cv2\n",
    "from PIL import Image, ImageTk\n",
    "\n",
    "class VideoPlayer:\n",
    "    def __init__(self, window):\n",
    "        self.window = window\n",
    "        self.window.title(\"Video Player\")\n",
    "        \n",
    "        # Create frame to hold both canvases horizontally\n",
    "        self.frame = Frame(window)\n",
    "        self.frame.pack(expand=True, fill=\"both\")\n",
    "        \n",
    "        # Initialize both videos and canvases\n",
    "        self.videos = [\n",
    "            {\n",
    "                \"image\": \"luxury_car.png\",\n",
    "                \"video\": \"luxury_car.mp4\",\n",
    "                \"canvas\": None,\n",
    "                \"vid\": None,\n",
    "                \"is_playing\": False,\n",
    "                \"photo\": None,\n",
    "                \"thumbnail_photo\": None,\n",
    "                \"width\": 1280//2,\n",
    "                \"height\": 720//2\n",
    "            },\n",
    "            {\n",
    "                \"image\": \"luxury_car2.png\",\n",
    "                \"video\": \"luxury_car2.mp4\",\n",
    "                \"canvas\": None,\n",
    "                \"vid\": None,\n",
    "                \"is_playing\": False,\n",
    "                \"photo\": None,\n",
    "                \"thumbnail_photo\": None,\n",
    "                \"width\": 1280//2,\n",
    "                \"height\": 720//2\n",
    "            }\n",
    "        ]\n",
    "        \n",
    "        # Setup each video player\n",
    "        for i, video in enumerate(self.videos):\n",
    "            # Create canvas with dimensions from videos list\n",
    "            canvas = Canvas(self.frame, width=video[\"width\"], height=video[\"height\"])\n",
    "            canvas.pack(side=LEFT, padx=10)\n",
    "            video[\"canvas\"] = canvas\n",
    "            \n",
    "            # Load and display thumbnail\n",
    "            self.setup_thumbnail(i)\n",
    "            \n",
    "            # Bind hover events\n",
    "            canvas.bind(\"<Enter>\", lambda e, idx=i: self.start_video(idx))\n",
    "            canvas.bind(\"<Leave>\", lambda e, idx=i: self.stop_video(idx))\n",
    "        \n",
    "        self.delay = 15\n",
    "\n",
    "    def setup_thumbnail(self, index):\n",
    "        video = self.videos[index]\n",
    "        # Load and resize thumbnail\n",
    "        thumbnail = Image.open(video[\"image\"])\n",
    "        # Use dimensions from videos list\n",
    "        thumbnail = thumbnail.resize((video[\"width\"], video[\"height\"]))\n",
    "        video[\"thumbnail_photo\"] = ImageTk.PhotoImage(thumbnail)\n",
    "        \n",
    "        # Display thumbnail\n",
    "        video[\"canvas\"].delete(\"all\")\n",
    "        video[\"canvas\"].create_image(0, 0, image=video[\"thumbnail_photo\"], anchor=NW)\n",
    "\n",
    "    def start_video(self, index):\n",
    "        video = self.videos[index]\n",
    "        if not video[\"is_playing\"]:\n",
    "            video[\"vid\"] = cv2.VideoCapture(video[\"video\"])\n",
    "            video[\"is_playing\"] = True\n",
    "            self.update_frame(index)\n",
    "\n",
    "    def stop_video(self, index):\n",
    "        video = self.videos[index]\n",
    "        if video[\"vid\"] is not None:\n",
    "            video[\"vid\"].release()\n",
    "        video[\"is_playing\"] = False\n",
    "        self.setup_thumbnail(index)\n",
    "            \n",
    "    def update_frame(self, index):\n",
    "        video = self.videos[index]\n",
    "        if video[\"is_playing\"]:\n",
    "            ret, frame = video[\"vid\"].read()\n",
    "            if ret:\n",
    "                # Convert frame from BGR to RGB\n",
    "                frame = cv2.cvtColor(frame, cv2.COLOR_BGR2RGB)\n",
    "                \n",
    "                # Resize frame using dimensions from videos list\n",
    "                frame = cv2.resize(frame, (video[\"width\"], video[\"height\"]))\n",
    "                \n",
    "                # Convert frame to PhotoImage\n",
    "                frame_image = Image.fromarray(frame)\n",
    "                video[\"photo\"] = ImageTk.PhotoImage(image=frame_image)\n",
    "                \n",
    "                # Clear canvas and show new frame\n",
    "                video[\"canvas\"].delete(\"all\")\n",
    "                video[\"canvas\"].create_image(0, 0, image=video[\"photo\"], anchor=NW)\n",
    "                \n",
    "                # Schedule next update\n",
    "                self.window.after(self.delay, lambda: self.update_frame(index))\n",
    "            else:\n",
    "                # Video ended - restart video\n",
    "                video[\"vid\"].release()\n",
    "                self.start_video(index)\n",
    "\n",
    "    def __del__(self):\n",
    "        for video in self.videos:\n",
    "            if video[\"vid\"] is not None:\n",
    "                video[\"vid\"].release()\n",
    "\n",
    "# Create main window and start application\n",
    "root = tk.Tk()\n",
    "app = VideoPlayer(root)\n",
    "root.mainloop()\n"
   ]
  }
 ],
 "metadata": {
  "kernelspec": {
   "display_name": "base",
   "language": "python",
   "name": "python3"
  },
  "language_info": {
   "codemirror_mode": {
    "name": "ipython",
    "version": 3
   },
   "file_extension": ".py",
   "mimetype": "text/x-python",
   "name": "python",
   "nbconvert_exporter": "python",
   "pygments_lexer": "ipython3",
   "version": "3.12.7"
  }
 },
 "nbformat": 4,
 "nbformat_minor": 2
}
