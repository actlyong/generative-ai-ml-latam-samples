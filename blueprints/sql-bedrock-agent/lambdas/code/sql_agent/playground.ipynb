{
 "cells": [
  {
   "cell_type": "code",
   "execution_count": 11,
   "metadata": {},
   "outputs": [
    {
     "name": "stdout",
     "output_type": "stream",
     "text": [
      "content=\"I aim to be direct and honest in my interactions, so I want to acknowledge that while I can engage in friendly conversation, I try not to pretend to have feelings or experiences I don't actually have. I'm happy to chat with you and help in whatever way I can. What would you like to discuss?\" additional_kwargs={} response_metadata={'ResponseMetadata': {'RequestId': 'ab4f247f-fadf-458f-aec4-0946ee06fd69', 'HTTPStatusCode': 200, 'HTTPHeaders': {'date': 'Wed, 27 Nov 2024 00:18:21 GMT', 'content-type': 'application/json', 'content-length': '473', 'connection': 'keep-alive', 'x-amzn-requestid': 'ab4f247f-fadf-458f-aec4-0946ee06fd69'}, 'RetryAttempts': 0}, 'stopReason': 'end_turn', 'metrics': {'latencyMs': [1842]}} id='run-25395287-da8c-42ae-b547-0e781560df23-0' usage_metadata={'input_tokens': 14, 'output_tokens': 67, 'total_tokens': 81}\n"
     ]
    }
   ],
   "source": [
    "from langchain_aws import ChatBedrock\n",
    "\n",
    "# Initialize the Bedrock chat model\n",
    "llm = ChatBedrock(\n",
    "    model=\"us.anthropic.claude-3-5-sonnet-20241022-v2:0\",\n",
    "    beta_use_converse_api=True\n",
    ")\n",
    "\n",
    "# Invoke the llm\n",
    "response = llm.invoke(\"Hello! How are you today?\")\n",
    "print(response)"
   ]
  },
  {
   "cell_type": "code",
   "execution_count": null,
   "metadata": {},
   "outputs": [],
   "source": [
    "import os\n",
    "from langchain_community.utilities.sql_database import SQLDatabase\n",
    "from langchain_community.agent_toolkits import create_sql_agent\n",
    "from langchain_aws import  ChatBedrock\n",
    "\n",
    "#model_id = os.environ.get(\"MODEL_ID\", \"anthropic.claude-3-5-sonnet-20241022-v2:0\")\n",
    "model_id = os.environ.get(\"MODEL_ID\", \"us.anthropic.claude-3-5-haiku-20241022-v1:0\")\n",
    "\n",
    "def query_db(consulta):\n",
    "    db = SQLDatabase.from_uri(\"sqlite:///Chinook.db\")\n",
    "    print(\"dialect:\",db.dialect)\n",
    "    print (\"tables:\")\n",
    "    print(db.get_usable_table_names())\n",
    "    llm =ChatBedrock(model = model_id,  beta_use_converse_api=True, model_kwargs={\"temperature\": 0})\n",
    "    agent_executor = create_sql_agent(llm, db=db, verbose=True)\n",
    "    response = agent_executor.invoke(consulta)\n",
    "    return response.get(\"output\")\n"
   ]
  },
  {
   "cell_type": "code",
   "execution_count": 6,
   "metadata": {},
   "outputs": [
    {
     "name": "stdout",
     "output_type": "stream",
     "text": [
      "dialect: sqlite\n",
      "tables:\n",
      "['Album', 'Artist', 'Customer', 'Employee', 'Genre', 'Invoice', 'InvoiceLine', 'MediaType', 'Playlist', 'PlaylistTrack', 'Track']\n",
      "\n",
      "\n",
      "\u001b[1m> Entering new SQL Agent Executor chain...\u001b[0m\n",
      "\u001b[32;1m\u001b[1;3mThought: I'll use the sql_db_list_tables tool to see what tables are available in the database.\n",
      "Action: sql_db_list_tables\n",
      "Action Input: \u001b[0m\u001b[38;5;200m\u001b[1;3mAlbum, Artist, Customer, Employee, Genre, Invoice, InvoiceLine, MediaType, Playlist, PlaylistTrack, Track\u001b[0m\u001b[32;1m\u001b[1;3mThought: I see a list of tables that appear to be from a music-related database. The tables include Album, Artist, Customer, Employee, Genre, Invoice, InvoiceLine, MediaType, Playlist, PlaylistTrack, and Track. This looks like a comprehensive database for a music store or streaming service.\n",
      "\n",
      "Final Answer: Las tablas que conozco son: Album, Artist, Customer, Employee, Genre, Invoice, InvoiceLine, MediaType, Playlist, PlaylistTrack, y Track. Parece ser una base de datos relacionada con música, posiblemente de una tienda de música o servicio de streaming.\u001b[0m\n",
      "\n",
      "\u001b[1m> Finished chain.\u001b[0m\n",
      "Las tablas que conozco son: Album, Artist, Customer, Employee, Genre, Invoice, InvoiceLine, MediaType, Playlist, PlaylistTrack, y Track. Parece ser una base de datos relacionada con música, posiblemente de una tienda de música o servicio de streaming.\n"
     ]
    }
   ],
   "source": [
    "query = \"que tablas conoces?\"\n",
    "response = query_db(query)\n",
    "print (response)"
   ]
  },
  {
   "cell_type": "code",
   "execution_count": null,
   "metadata": {},
   "outputs": [],
   "source": [
    "import boto3\n",
    "client = boto3.client('bedrock-agent-runtime')\n",
    "agent_id = \"YOURAGENTID\"\n",
    "agent_alias_id = \"TSTALIASID\"\n",
    "input_text = \"Hola cuantos discos se han vendido por país?\""
   ]
  },
  {
   "cell_type": "code",
   "execution_count": 10,
   "metadata": {},
   "outputs": [],
   "source": [
    "\n",
    "import boto3\n",
    "from botocore.exceptions import ClientError\n",
    "import logging\n",
    "logger = logging.getLogger(__name__)\n",
    "\n",
    "\n",
    "class BedrockAgentService:\n",
    "    def __init__(self, agent_id, alias_id= \"TSTALIASID\", client=None) -> None:\n",
    "        self.agents_runtime_client = client if client else boto3.client('bedrock-agent-runtime')\n",
    "        self.agent_id = agent_id\n",
    "        self.alias_id = alias_id\n",
    "\n",
    "    # from https://docs.aws.amazon.com/code-library/latest/ug/python_3_bedrock-agent-runtime_code_examples.html\n",
    "    def invoke_agent(self, session_id, prompt):\n",
    "\n",
    "        try:\n",
    "\n",
    "            response = self.agents_runtime_client.invoke_agent(\n",
    "                agentId=self.agent_id,\n",
    "                agentAliasId=self.alias_id,\n",
    "                sessionId=session_id,\n",
    "                inputText=prompt,\n",
    "            )\n",
    "\n",
    "            completion = \"\"\n",
    "\n",
    "            for event in response.get(\"completion\"):\n",
    "                chunk = event[\"chunk\"]\n",
    "                completion = completion + chunk[\"bytes\"].decode()\n",
    "\n",
    "        except ClientError as e:\n",
    "            logger.error(f\"Couldn't invoke agent. {e}\")\n",
    "            raise\n",
    "\n",
    "        return completion\n",
    "\n"
   ]
  },
  {
   "cell_type": "code",
   "execution_count": 7,
   "metadata": {},
   "outputs": [],
   "source": [
    "agent = BedrockAgentService(agent_id, agent_alias_id)"
   ]
  },
  {
   "cell_type": "code",
   "execution_count": 8,
   "metadata": {},
   "outputs": [
    {
     "data": {
      "text/plain": [
       "'Según los datos, los 3 principales países por número de álbumes vendidos son:\\n1. Estados Unidos: 205 álbumes\\n2. Canadá: 136 álbumes\\n3. Francia: 99 álbumes\\n\\nEn total, se han identificado ventas de álbumes en al menos 10 países diferentes, con Estados Unidos liderando significativamente las ventas.'"
      ]
     },
     "execution_count": 8,
     "metadata": {},
     "output_type": "execute_result"
    }
   ],
   "source": [
    "agent.invoke_agent('56974769647', \"cuantos discos vendidos por país?\")"
   ]
  },
  {
   "cell_type": "code",
   "execution_count": 9,
   "metadata": {},
   "outputs": [
    {
     "data": {
      "text/plain": [
       "'Los 3 principales países por número de canciones vendidas son:\\n1. Estados Unidos: 494 canciones\\n2. Canadá: 304 canciones\\n3. Francia y Brasil (empatados): 190 canciones\\n\\nLa distribución de ventas de canciones sigue un patrón similar a la de álbumes, con Estados Unidos dominando claramente las ventas, seguido por Canadá y luego Francia y Brasil.'"
      ]
     },
     "execution_count": 9,
     "metadata": {},
     "output_type": "execute_result"
    }
   ],
   "source": [
    "agent.invoke_agent('56974769647', \"y canciones?\")"
   ]
  },
  {
   "cell_type": "code",
   "execution_count": 11,
   "metadata": {},
   "outputs": [
    {
     "data": {
      "text/plain": [
       "'Los 3 principales países por ingresos totales son:\\n1. Estados Unidos: $523.06\\n2. Canadá: $303.96\\n3. Francia: $195.10\\n\\nLa distribución de ingresos es consistente con las ventas de álbumes y canciones, con Estados Unidos liderando claramente, seguido por Canadá y Francia. Hay una variación significativa en los ingresos entre los diferentes países, reflejando las diferencias en el volumen de ventas.'"
      ]
     },
     "execution_count": 11,
     "metadata": {},
     "output_type": "execute_result"
    }
   ],
   "source": [
    "agent.invoke_agent('56974769647', \"ahora revenue\")"
   ]
  },
  {
   "cell_type": "code",
   "execution_count": null,
   "metadata": {},
   "outputs": [],
   "source": []
  }
 ],
 "metadata": {
  "kernelspec": {
   "display_name": ".venv",
   "language": "python",
   "name": "python3"
  },
  "language_info": {
   "codemirror_mode": {
    "name": "ipython",
    "version": 3
   },
   "file_extension": ".py",
   "mimetype": "text/x-python",
   "name": "python",
   "nbconvert_exporter": "python",
   "pygments_lexer": "ipython3",
   "version": "3.13.0"
  }
 },
 "nbformat": 4,
 "nbformat_minor": 2
}
