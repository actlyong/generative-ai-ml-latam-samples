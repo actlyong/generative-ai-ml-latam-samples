{
 "cells": [
  {
   "cell_type": "code",
   "execution_count": 11,
   "metadata": {},
   "outputs": [
    {
     "name": "stdout",
     "output_type": "stream",
     "text": [
      "content=\"I aim to be direct and honest in my interactions, so I want to acknowledge that while I can engage in friendly conversation, I try not to pretend to have feelings or experiences I don't actually have. I'm happy to chat with you and help in whatever way I can. What would you like to discuss?\" additional_kwargs={} response_metadata={'ResponseMetadata': {'RequestId': 'ab4f247f-fadf-458f-aec4-0946ee06fd69', 'HTTPStatusCode': 200, 'HTTPHeaders': {'date': 'Wed, 27 Nov 2024 00:18:21 GMT', 'content-type': 'application/json', 'content-length': '473', 'connection': 'keep-alive', 'x-amzn-requestid': 'ab4f247f-fadf-458f-aec4-0946ee06fd69'}, 'RetryAttempts': 0}, 'stopReason': 'end_turn', 'metrics': {'latencyMs': [1842]}} id='run-25395287-da8c-42ae-b547-0e781560df23-0' usage_metadata={'input_tokens': 14, 'output_tokens': 67, 'total_tokens': 81}\n"
     ]
    }
   ],
   "source": [
    "from langchain_aws import ChatBedrock\n",
    "\n",
    "# Initialize the Bedrock chat model\n",
    "llm = ChatBedrock(\n",
    "    model=\"us.anthropic.claude-3-5-sonnet-20241022-v2:0\",\n",
    "    beta_use_converse_api=True\n",
    ")\n",
    "\n",
    "# Invoke the llm\n",
    "response = llm.invoke(\"Hello! How are you today?\")\n",
    "print(response)"
   ]
  },
  {
   "cell_type": "code",
   "execution_count": null,
   "metadata": {},
   "outputs": [],
   "source": [
    "import os\n",
    "from langchain_community.utilities.sql_database import SQLDatabase\n",
    "from langchain_community.agent_toolkits import create_sql_agent\n",
    "from langchain_aws import  ChatBedrock\n",
    "\n",
    "#model_id = os.environ.get(\"MODEL_ID\", \"anthropic.claude-3-5-sonnet-20241022-v2:0\")\n",
    "model_id = os.environ.get(\"MODEL_ID\", \"us.anthropic.claude-3-5-haiku-20241022-v1:0\")\n",
    "\n",
    "def query_db(consulta):\n",
    "    db = SQLDatabase.from_uri(\"sqlite:///Chinook.db\")\n",
    "    print(\"dialect:\",db.dialect)\n",
    "    print (\"tables:\")\n",
    "    print(db.get_usable_table_names())\n",
    "    llm =ChatBedrock(model = model_id,  beta_use_converse_api=True, model_kwargs={\"temperature\": 0})\n",
    "    agent_executor = create_sql_agent(llm, db=db, verbose=True)\n",
    "    response = agent_executor.invoke(consulta)\n",
    "    return response.get(\"output\")\n"
   ]
  },
  {
   "cell_type": "code",
   "execution_count": 6,
   "metadata": {},
   "outputs": [
    {
     "name": "stdout",
     "output_type": "stream",
     "text": [
      "dialect: sqlite\n",
      "tables:\n",
      "['Album', 'Artist', 'Customer', 'Employee', 'Genre', 'Invoice', 'InvoiceLine', 'MediaType', 'Playlist', 'PlaylistTrack', 'Track']\n",
      "\n",
      "\n",
      "\u001b[1m> Entering new SQL Agent Executor chain...\u001b[0m\n",
      "\u001b[32;1m\u001b[1;3mThought: I'll use the sql_db_list_tables tool to see what tables are available in the database.\n",
      "Action: sql_db_list_tables\n",
      "Action Input: \u001b[0m\u001b[38;5;200m\u001b[1;3mAlbum, Artist, Customer, Employee, Genre, Invoice, InvoiceLine, MediaType, Playlist, PlaylistTrack, Track\u001b[0m\u001b[32;1m\u001b[1;3mThought: I see a list of tables that appear to be from a music-related database. The tables include Album, Artist, Customer, Employee, Genre, Invoice, InvoiceLine, MediaType, Playlist, PlaylistTrack, and Track. This looks like a comprehensive database for a music store or streaming service.\n",
      "\n",
      "Final Answer: Las tablas que conozco son: Album, Artist, Customer, Employee, Genre, Invoice, InvoiceLine, MediaType, Playlist, PlaylistTrack, y Track. Parece ser una base de datos relacionada con música, posiblemente de una tienda de música o servicio de streaming.\u001b[0m\n",
      "\n",
      "\u001b[1m> Finished chain.\u001b[0m\n",
      "Las tablas que conozco son: Album, Artist, Customer, Employee, Genre, Invoice, InvoiceLine, MediaType, Playlist, PlaylistTrack, y Track. Parece ser una base de datos relacionada con música, posiblemente de una tienda de música o servicio de streaming.\n"
     ]
    }
   ],
   "source": [
    "query = \"que tablas conoces?\"\n",
    "response = query_db(query)\n",
    "print (response)"
   ]
  },
  {
   "cell_type": "code",
   "execution_count": null,
   "metadata": {},
   "outputs": [],
   "source": []
  }
 ],
 "metadata": {
  "kernelspec": {
   "display_name": ".venv",
   "language": "python",
   "name": "python3"
  },
  "language_info": {
   "codemirror_mode": {
    "name": "ipython",
    "version": 3
   },
   "file_extension": ".py",
   "mimetype": "text/x-python",
   "name": "python",
   "nbconvert_exporter": "python",
   "pygments_lexer": "ipython3",
   "version": "3.13.0"
  }
 },
 "nbformat": 4,
 "nbformat_minor": 2
}
